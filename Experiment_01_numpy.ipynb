{
  "nbformat": 4,
  "nbformat_minor": 0,
  "metadata": {
    "colab": {
      "name": "experiment02-numpy.ipynb",
      "provenance": [],
      "include_colab_link": true
    },
    "kernelspec": {
      "name": "python3",
      "display_name": "Python 3"
    },
    "language_info": {
      "name": "python"
    }
  },
  "cells": [
    {
      "cell_type": "markdown",
      "metadata": {
        "id": "view-in-github",
        "colab_type": "text"
      },
      "source": [
        "<a href=\"https://colab.research.google.com/github/Aditi6402/pract1/blob/main/Experiment_01_numpy.ipynb\" target=\"_parent\"><img src=\"https://colab.research.google.com/assets/colab-badge.svg\" alt=\"Open In Colab\"/></a>"
      ]
    },
    {
      "cell_type": "markdown",
      "source": [
        "**Experiment No :** 02\n",
        "\n",
        "**Aim :** Learn basics of Numpy library for storing and efficiently processing any external data into python execution pipeline.\n",
        "\n",
        "**Theory :**  **NumPy** (short for Numerical Python) provides an efficient interface to store and operate on dense data buffers. In some ways, *NumPy arrays* are like Python's built-in *list type*, but NumPy arrays provide much more *efficient storage* and *data operations* as the arrays grow larger in size. NumPy arrays form the core of nearly the entire ecosystem of data science tools in Python\n",
        "\n",
        "NumPy is a Python library used for working with arrays. It also has functions for working in domain of linear algebra, fourier transform, and matrices. NumPy was created in 2005 by Travis Oliphant. It is an open source project and you can use it freely.\n",
        "\n",
        "In Python we have lists that serve the purpose of arrays, but they are slow to process. NumPy aims to provide an array object that is up to 50x faster than traditional Python lists. The array object in NumPy is called *ndarray*, it provides a lot of supporting functions that make working with *ndarray* very easy.\n",
        "Arrays are very frequently used in data science, where speed and resources are very important.\n",
        "\n",
        "NumPy arrays are stored at one continuous place in memory unlike lists, so processes can access and manipulate them very efficiently. This behavior is called locality of reference in computer science. This is the main reason why NumPy is faster than lists. Also it is optimized to work with latest CPU architectures.\n",
        "\n"
      ],
      "metadata": {
        "id": "eTOpwleUjhEc"
      }
    },
    {
      "cell_type": "markdown",
      "source": [
        "**Working :**"
      ],
      "metadata": {
        "id": "wXeSkgt6EAur"
      }
    },
    {
      "cell_type": "code",
      "execution_count": 141,
      "metadata": {
        "id": "aci_dNppq6Dm",
        "colab": {
          "base_uri": "https://localhost:8080/",
          "height": 44
        },
        "outputId": "d21a5c0a-0d76-4f4f-df54-5c0be5d1fe1e"
      },
      "outputs": [
        {
          "output_type": "execute_result",
          "data": {
            "text/plain": [
              "'1.21.6'"
            ],
            "application/vnd.google.colaboratory.intrinsic+json": {
              "type": "string"
            }
          },
          "metadata": {},
          "execution_count": 141
        }
      ],
      "source": [
        "import numpy\n",
        "numpy.__version__"
      ]
    },
    {
      "cell_type": "markdown",
      "source": [
        "**A Python List Is More Than Just a List**\n",
        "\n",
        "Let's consider now what happens when we use a Python data structure that holds many Python objects. The standard mutable multi-element container in Python is the list. We can create a list of integers as follows:"
      ],
      "metadata": {
        "id": "o8DgaYQBuiz8"
      }
    },
    {
      "cell_type": "code",
      "source": [
        "L = list(range(10))\n",
        "L"
      ],
      "metadata": {
        "colab": {
          "base_uri": "https://localhost:8080/"
        },
        "id": "0misdp5Luo8h",
        "outputId": "38892fe4-d759-47ec-cf0b-866cd5b8ed27"
      },
      "execution_count": 142,
      "outputs": [
        {
          "output_type": "execute_result",
          "data": {
            "text/plain": [
              "[0, 1, 2, 3, 4, 5, 6, 7, 8, 9]"
            ]
          },
          "metadata": {},
          "execution_count": 142
        }
      ]
    },
    {
      "cell_type": "code",
      "source": [
        "type(L[0])"
      ],
      "metadata": {
        "colab": {
          "base_uri": "https://localhost:8080/"
        },
        "id": "nEY3A3fKur-v",
        "outputId": "fc1a695b-752e-4d40-d1ff-5329fefbfbad"
      },
      "execution_count": 143,
      "outputs": [
        {
          "output_type": "execute_result",
          "data": {
            "text/plain": [
              "int"
            ]
          },
          "metadata": {},
          "execution_count": 143
        }
      ]
    },
    {
      "cell_type": "code",
      "source": [
        "L2 = [str(c) for c in L]\n",
        "L2"
      ],
      "metadata": {
        "colab": {
          "base_uri": "https://localhost:8080/"
        },
        "id": "peiODg-wu0UP",
        "outputId": "74609883-026d-499d-d4b0-05f557ccedf5"
      },
      "execution_count": 144,
      "outputs": [
        {
          "output_type": "execute_result",
          "data": {
            "text/plain": [
              "['0', '1', '2', '3', '4', '5', '6', '7', '8', '9']"
            ]
          },
          "metadata": {},
          "execution_count": 144
        }
      ]
    },
    {
      "cell_type": "code",
      "source": [
        "type(L2[0])"
      ],
      "metadata": {
        "colab": {
          "base_uri": "https://localhost:8080/"
        },
        "id": "VtIcV8pVu29N",
        "outputId": "55b36525-7812-4d33-f630-e966c976317b"
      },
      "execution_count": 145,
      "outputs": [
        {
          "output_type": "execute_result",
          "data": {
            "text/plain": [
              "str"
            ]
          },
          "metadata": {},
          "execution_count": 145
        }
      ]
    },
    {
      "cell_type": "code",
      "source": [
        "L3 = [True, \"2\", 3.0, 4]\n",
        "[type(item) for item in L3]"
      ],
      "metadata": {
        "colab": {
          "base_uri": "https://localhost:8080/"
        },
        "id": "yvmZGyteu6vH",
        "outputId": "8ff5cde0-e7fd-4eed-be5c-5c77888b1759"
      },
      "execution_count": 146,
      "outputs": [
        {
          "output_type": "execute_result",
          "data": {
            "text/plain": [
              "[bool, str, float, int]"
            ]
          },
          "metadata": {},
          "execution_count": 146
        }
      ]
    },
    {
      "cell_type": "markdown",
      "source": [
        "## Fixed-Type Arrays in Python\n",
        "\n",
        "Python offers several different options for storing data in efficient, fixed-type data buffers.\n",
        "The built-in ``array`` module (available since Python 3.3) can be used to create dense arrays of a uniform type:"
      ],
      "metadata": {
        "id": "WigRtVzrvEoy"
      }
    },
    {
      "cell_type": "code",
      "source": [
        "import array\n",
        "L = list(range(10))\n",
        "A = array.array('i', L)\n",
        "A"
      ],
      "metadata": {
        "colab": {
          "base_uri": "https://localhost:8080/"
        },
        "id": "Mtu3TuuGvKZW",
        "outputId": "bae02bca-8f44-4239-e38c-a40abc65e74a"
      },
      "execution_count": 147,
      "outputs": [
        {
          "output_type": "execute_result",
          "data": {
            "text/plain": [
              "array('i', [0, 1, 2, 3, 4, 5, 6, 7, 8, 9])"
            ]
          },
          "metadata": {},
          "execution_count": 147
        }
      ]
    },
    {
      "cell_type": "markdown",
      "source": [
        "\n",
        "## Creating Arrays from Python Lists\n",
        "\n",
        "First, we can use ``np.array`` to create arrays from Python lists:"
      ],
      "metadata": {
        "id": "xCEKacaQwcb2"
      }
    },
    {
      "cell_type": "code",
      "source": [
        "import numpy as np\n",
        "# integer array:\n",
        "np.array([1, 4, 2, 5, 3])"
      ],
      "metadata": {
        "colab": {
          "base_uri": "https://localhost:8080/"
        },
        "id": "Df2kJJVKwd1V",
        "outputId": "d773f1c0-12d4-498a-dd75-71f94feea0d2"
      },
      "execution_count": 148,
      "outputs": [
        {
          "output_type": "execute_result",
          "data": {
            "text/plain": [
              "array([1, 4, 2, 5, 3])"
            ]
          },
          "metadata": {},
          "execution_count": 148
        }
      ]
    },
    {
      "cell_type": "markdown",
      "source": [
        "Remember that unlike Python lists, NumPy is constrained to arrays that all contain the same type. If types do not match, NumPy will upcast if possible (here, integers are up-cast to floating point):"
      ],
      "metadata": {
        "id": "aSXNgXDbwqyU"
      }
    },
    {
      "cell_type": "code",
      "source": [
        "np.array([3.14, 4, 2, 3])"
      ],
      "metadata": {
        "colab": {
          "base_uri": "https://localhost:8080/"
        },
        "id": "SFoqtm67wqd4",
        "outputId": "98545e86-83d3-4e83-ac78-0daef4cc9c11"
      },
      "execution_count": 149,
      "outputs": [
        {
          "output_type": "execute_result",
          "data": {
            "text/plain": [
              "array([3.14, 4.  , 2.  , 3.  ])"
            ]
          },
          "metadata": {},
          "execution_count": 149
        }
      ]
    },
    {
      "cell_type": "markdown",
      "source": [
        "If we want to explicitly set the data type of the resulting array, we can use the ``dtype`` keyword:"
      ],
      "metadata": {
        "id": "zCM50ofhwxy-"
      }
    },
    {
      "cell_type": "code",
      "source": [
        "np.array([1, 2, 3, 4], dtype='float32')"
      ],
      "metadata": {
        "colab": {
          "base_uri": "https://localhost:8080/"
        },
        "id": "58Ra0aDMw2oL",
        "outputId": "e2487769-cf44-45a5-ee9b-473c05483fde"
      },
      "execution_count": 150,
      "outputs": [
        {
          "output_type": "execute_result",
          "data": {
            "text/plain": [
              "array([1., 2., 3., 4.], dtype=float32)"
            ]
          },
          "metadata": {},
          "execution_count": 150
        }
      ]
    },
    {
      "cell_type": "markdown",
      "source": [
        "Finally, unlike Python lists, NumPy arrays can explicitly be multi-dimensional; here's one way of initializing a multidimensional array using a list of lists:"
      ],
      "metadata": {
        "id": "TTFC1GqJxfzn"
      }
    },
    {
      "cell_type": "code",
      "source": [
        "# nested lists result in multi-dimensional arrays\n",
        "np.array([range(i, i + 3) for i in [2, 4, 6]])"
      ],
      "metadata": {
        "colab": {
          "base_uri": "https://localhost:8080/"
        },
        "id": "EPgUUQZ-xYpd",
        "outputId": "0a202bc1-756f-4737-d626-bb2e48dd6dd8"
      },
      "execution_count": 151,
      "outputs": [
        {
          "output_type": "execute_result",
          "data": {
            "text/plain": [
              "array([[2, 3, 4],\n",
              "       [4, 5, 6],\n",
              "       [6, 7, 8]])"
            ]
          },
          "metadata": {},
          "execution_count": 151
        }
      ]
    },
    {
      "cell_type": "markdown",
      "source": [
        "## Creating Arrays from Scratch\n",
        "\n",
        "Especially for larger arrays, it is more efficient to create arrays from scratch using routines built into NumPy.\n",
        "Here are several examples:"
      ],
      "metadata": {
        "id": "c20zcRzBxxey"
      }
    },
    {
      "cell_type": "code",
      "source": [
        "# Create a length-10 integer array filled with zeros\n",
        "np.zeros(10, dtype=int)"
      ],
      "metadata": {
        "id": "4Df8zJxFxBdq",
        "colab": {
          "base_uri": "https://localhost:8080/"
        },
        "outputId": "e243a218-514a-4673-b222-7cd6f9d91bbe"
      },
      "execution_count": 152,
      "outputs": [
        {
          "output_type": "execute_result",
          "data": {
            "text/plain": [
              "array([0, 0, 0, 0, 0, 0, 0, 0, 0, 0])"
            ]
          },
          "metadata": {},
          "execution_count": 152
        }
      ]
    },
    {
      "cell_type": "code",
      "source": [
        "# Create a 3x5 floating-point array filled with ones\n",
        "np.ones((3, 5), dtype=float)"
      ],
      "metadata": {
        "id": "YeqU_GSexC5m",
        "colab": {
          "base_uri": "https://localhost:8080/"
        },
        "outputId": "68ac5af9-6fb6-4cf1-b6ce-71dada84f513"
      },
      "execution_count": 153,
      "outputs": [
        {
          "output_type": "execute_result",
          "data": {
            "text/plain": [
              "array([[1., 1., 1., 1., 1.],\n",
              "       [1., 1., 1., 1., 1.],\n",
              "       [1., 1., 1., 1., 1.]])"
            ]
          },
          "metadata": {},
          "execution_count": 153
        }
      ]
    },
    {
      "cell_type": "code",
      "source": [
        "# Create a 3x5 array filled with 3.14\n",
        "np.full((3, 5), 3.14)"
      ],
      "metadata": {
        "id": "JvZL6KtAxKDP",
        "colab": {
          "base_uri": "https://localhost:8080/"
        },
        "outputId": "89694354-14a4-4a8a-b3a8-6041b9b7b501"
      },
      "execution_count": 154,
      "outputs": [
        {
          "output_type": "execute_result",
          "data": {
            "text/plain": [
              "array([[3.14, 3.14, 3.14, 3.14, 3.14],\n",
              "       [3.14, 3.14, 3.14, 3.14, 3.14],\n",
              "       [3.14, 3.14, 3.14, 3.14, 3.14]])"
            ]
          },
          "metadata": {},
          "execution_count": 154
        }
      ]
    },
    {
      "cell_type": "code",
      "source": [
        "# Create an array filled with a linear sequence\n",
        "# Starting at 0, ending at 20, stepping by 2\n",
        "# (this is similar to the built-in range() function)\n",
        "np.arange(0, 20, 2)"
      ],
      "metadata": {
        "id": "8cljdE71xNvR",
        "colab": {
          "base_uri": "https://localhost:8080/"
        },
        "outputId": "a928e13e-aa39-406b-97f0-8ea420f5e5d2"
      },
      "execution_count": 155,
      "outputs": [
        {
          "output_type": "execute_result",
          "data": {
            "text/plain": [
              "array([ 0,  2,  4,  6,  8, 10, 12, 14, 16, 18])"
            ]
          },
          "metadata": {},
          "execution_count": 155
        }
      ]
    },
    {
      "cell_type": "code",
      "source": [
        "# Create an array of five values evenly spaced between 0 and 1\n",
        "np.linspace(0, 1, 5)"
      ],
      "metadata": {
        "id": "83UbZarFxS6b",
        "colab": {
          "base_uri": "https://localhost:8080/"
        },
        "outputId": "8dfeaa59-78cd-4093-ce1e-63b41d200253"
      },
      "execution_count": 156,
      "outputs": [
        {
          "output_type": "execute_result",
          "data": {
            "text/plain": [
              "array([0.  , 0.25, 0.5 , 0.75, 1.  ])"
            ]
          },
          "metadata": {},
          "execution_count": 156
        }
      ]
    },
    {
      "cell_type": "code",
      "source": [
        "# Create a 3x3 array of uniformly distributed\n",
        "# random values between 0 and 1\n",
        "np.random.random((3, 3))"
      ],
      "metadata": {
        "id": "QXEyH8ZTxW0G",
        "colab": {
          "base_uri": "https://localhost:8080/"
        },
        "outputId": "11966ce7-3262-4e58-e620-35fcbdb49cb3"
      },
      "execution_count": 157,
      "outputs": [
        {
          "output_type": "execute_result",
          "data": {
            "text/plain": [
              "array([[0.65279032, 0.63505887, 0.99529957],\n",
              "       [0.58185033, 0.41436859, 0.4746975 ],\n",
              "       [0.6235101 , 0.33800761, 0.67475232]])"
            ]
          },
          "metadata": {},
          "execution_count": 157
        }
      ]
    },
    {
      "cell_type": "code",
      "source": [
        "# Create a 3x3 array of normally distributed random values\n",
        "# with mean 0 and standard deviation 1\n",
        "np.random.normal(0, 1, (3, 3))"
      ],
      "metadata": {
        "id": "04T8a-AAxbV7",
        "colab": {
          "base_uri": "https://localhost:8080/"
        },
        "outputId": "e6ede56c-7b14-4427-bf13-19d7b8a9b70b"
      },
      "execution_count": 158,
      "outputs": [
        {
          "output_type": "execute_result",
          "data": {
            "text/plain": [
              "array([[ 1.0657892 , -0.69993739,  0.14407911],\n",
              "       [ 0.3985421 ,  0.02686925,  1.05583713],\n",
              "       [-0.07318342, -0.66572066, -0.04411241]])"
            ]
          },
          "metadata": {},
          "execution_count": 158
        }
      ]
    },
    {
      "cell_type": "code",
      "source": [
        "# Create a 3x3 array of random integers in the interval [0, 10)\n",
        "np.random.randint(0, 10, (3, 3))"
      ],
      "metadata": {
        "id": "FB6_jCanxez6",
        "colab": {
          "base_uri": "https://localhost:8080/"
        },
        "outputId": "87fc3447-0a8f-45e8-c745-cbe8236ecf27"
      },
      "execution_count": 159,
      "outputs": [
        {
          "output_type": "execute_result",
          "data": {
            "text/plain": [
              "array([[7, 2, 9],\n",
              "       [2, 3, 3],\n",
              "       [2, 3, 4]])"
            ]
          },
          "metadata": {},
          "execution_count": 159
        }
      ]
    },
    {
      "cell_type": "code",
      "source": [
        "# Create a 3x3 identity matrix\n",
        "np.eye(5)"
      ],
      "metadata": {
        "id": "S8-Pk3q5xmdO",
        "colab": {
          "base_uri": "https://localhost:8080/"
        },
        "outputId": "976a1e1d-fde1-4db7-8420-483b4931b10f"
      },
      "execution_count": 160,
      "outputs": [
        {
          "output_type": "execute_result",
          "data": {
            "text/plain": [
              "array([[1., 0., 0., 0., 0.],\n",
              "       [0., 1., 0., 0., 0.],\n",
              "       [0., 0., 1., 0., 0.],\n",
              "       [0., 0., 0., 1., 0.],\n",
              "       [0., 0., 0., 0., 1.]])"
            ]
          },
          "metadata": {},
          "execution_count": 160
        }
      ]
    },
    {
      "cell_type": "code",
      "source": [
        "# Create an uninitialized array of three integers\n",
        "# The values will be whatever happens to already exist at that memory location\n",
        "np.empty(3)"
      ],
      "metadata": {
        "id": "1OgzEhM2xtF5",
        "colab": {
          "base_uri": "https://localhost:8080/"
        },
        "outputId": "e2b55a31-a100-45af-e47b-696150fac7d0"
      },
      "execution_count": 161,
      "outputs": [
        {
          "output_type": "execute_result",
          "data": {
            "text/plain": [
              "array([0.5       , 0.03333333, 0.00909091])"
            ]
          },
          "metadata": {},
          "execution_count": 161
        }
      ]
    },
    {
      "cell_type": "markdown",
      "source": [
        "## NumPy Standard Data Types\n",
        "\n",
        "NumPy arrays contain values of a single type, so it is important to have detailed knowledge of those types and their limitations.\n",
        "Because NumPy is built in C, the types will be familiar to users of C, Fortran, and other related languages.\n",
        "\n",
        "The standard NumPy data types are listed in the following table.\n",
        "Note that when constructing an array, they can be specified using a string:\n",
        "\n",
        "```python\n",
        "np.zeros(10, dtype='int16')\n",
        "```\n",
        "\n",
        "Or using the associated NumPy object:\n",
        "\n",
        "```python\n",
        "np.zeros(10, dtype=np.int16)\n",
        "```\n",
        "Following table shows all datatypes for Numpy Array\n",
        "\n",
        "| Data type\t    | Description |\n",
        "|---------------|-------------|\n",
        "| ``bool_``     | Boolean (True or False) stored as a byte |\n",
        "| ``int_``      | Default integer type (same as C ``long``; normally either ``int64`` or ``int32``)| \n",
        "| ``intc``      | Identical to C ``int`` (normally ``int32`` or ``int64``)| \n",
        "| ``intp``      | Integer used for indexing (same as C ``ssize_t``; normally either ``int32`` or ``int64``)| \n",
        "| ``int8``      | Byte (-128 to 127)| \n",
        "| ``int16``     | Integer (-32768 to 32767)|\n",
        "| ``int32``     | Integer (-2147483648 to 2147483647)|\n",
        "| ``int64``     | Integer (-9223372036854775808 to 9223372036854775807)| \n",
        "| ``uint8``     | Unsigned integer (0 to 255)| \n",
        "| ``uint16``    | Unsigned integer (0 to 65535)| \n",
        "| ``uint32``    | Unsigned integer (0 to 4294967295)| \n",
        "| ``uint64``    | Unsigned integer (0 to 18446744073709551615)| \n",
        "| ``float_``    | Shorthand for ``float64``.| \n",
        "| ``float16``   | Half precision float: sign bit, 5 bits exponent, 10 bits mantissa| \n",
        "| ``float32``   | Single precision float: sign bit, 8 bits exponent, 23 bits mantissa| \n",
        "| ``float64``   | Double precision float: sign bit, 11 bits exponent, 52 bits mantissa| \n",
        "| ``complex_``  | Shorthand for ``complex128``.| \n",
        "| ``complex64`` | Complex number, represented by two 32-bit floats| \n",
        "| ``complex128``| Complex number, represented by two 64-bit floats| "
      ],
      "metadata": {
        "id": "FhIMJjgcx1eD"
      }
    },
    {
      "cell_type": "markdown",
      "source": [
        "## NumPy Array Attributes\n",
        "\n",
        "We will learn about important Attributes with NumPy Array objects\n",
        "\n",
        "Each array object has attributes ``ndim`` (the number of dimensions), ``shape`` (the size of each dimension), and ``size`` (the total size of the array), the ``dtype``, the data type of the array :"
      ],
      "metadata": {
        "id": "_fIZQ4AKzf3e"
      }
    },
    {
      "cell_type": "code",
      "source": [
        "#Consider following sample arrays\n",
        "np.random.seed(0)  # seed for reproducibility\n",
        "\n",
        "x1 = np.random.randint(10, size=6)  # One-dimensional array\n",
        "x2 = np.random.randint(10, size=(3, 4))  # Two-dimensional array\n",
        "x3 = np.random.randint(10, size=(3, 4, 5))  # Three-dimensional array"
      ],
      "metadata": {
        "id": "ord_E53rx0Yx"
      },
      "execution_count": 162,
      "outputs": []
    },
    {
      "cell_type": "code",
      "source": [
        "print(\"x3 ndim: \", x3.ndim)\n",
        "print(\"x3 shape:\", x3.shape)\n",
        "print(\"x3 size: \", x3.size)\n",
        "print(\"dtype:\", x3.dtype)"
      ],
      "metadata": {
        "id": "X4avCd82z3nZ",
        "colab": {
          "base_uri": "https://localhost:8080/"
        },
        "outputId": "59b7aa24-f138-4442-90f6-83f12760254b"
      },
      "execution_count": 163,
      "outputs": [
        {
          "output_type": "stream",
          "name": "stdout",
          "text": [
            "x3 ndim:  3\n",
            "x3 shape: (3, 4, 5)\n",
            "x3 size:  60\n",
            "dtype: int64\n"
          ]
        }
      ]
    },
    {
      "cell_type": "markdown",
      "source": [
        "Other attributes include ``itemsize``, which lists the size (in bytes) of each array element, and ``nbytes``, which lists the total size (in bytes) of the array:"
      ],
      "metadata": {
        "id": "gD5y17ur0SUY"
      }
    },
    {
      "cell_type": "code",
      "source": [
        "print(\"itemsize:\", x3.itemsize, \"bytes\")\n",
        "print(\"nbytes:\", x3.nbytes, \"bytes\")"
      ],
      "metadata": {
        "id": "iIACfZGJz88F",
        "colab": {
          "base_uri": "https://localhost:8080/"
        },
        "outputId": "69ffc421-ef57-4f45-ebb0-4c61d90c956e"
      },
      "execution_count": 164,
      "outputs": [
        {
          "output_type": "stream",
          "name": "stdout",
          "text": [
            "itemsize: 8 bytes\n",
            "nbytes: 480 bytes\n"
          ]
        }
      ]
    },
    {
      "cell_type": "markdown",
      "source": [
        "## Array Indexing: Accessing Single Elements\n",
        "Next we learn how to access single element in a NumPy array\n",
        "NumPy follows indexing similar to that of Python in a dimension index starts at 0 till length-1 \n",
        "\n",
        "So x1[0] will mean 0th element and x1[5] means sixth element in array x1.\n",
        "\n",
        "We can use negative index value to indicate accessing elements from back side of array.\n",
        "\n",
        "In a multi-dimensional array, items can be accessed using a comma-separated tuple of indices as shown in below code cell."
      ],
      "metadata": {
        "id": "QhHVb0nMGphd"
      }
    },
    {
      "cell_type": "code",
      "source": [
        "# acessing third list's first element\n",
        "x2[2, 0]"
      ],
      "metadata": {
        "id": "DYhobFMoJV9c",
        "colab": {
          "base_uri": "https://localhost:8080/"
        },
        "outputId": "1525cbc3-d7d3-4ec9-a0bf-302d9f2a49e1"
      },
      "execution_count": 165,
      "outputs": [
        {
          "output_type": "execute_result",
          "data": {
            "text/plain": [
              "1"
            ]
          },
          "metadata": {},
          "execution_count": 165
        }
      ]
    },
    {
      "cell_type": "code",
      "source": [
        "# accessing second last element from second list \n",
        "x2[1, -2]"
      ],
      "metadata": {
        "id": "dm0FVTT8JlL4",
        "colab": {
          "base_uri": "https://localhost:8080/"
        },
        "outputId": "37d556c3-0e11-4ea3-81ff-3ee0e64e2150"
      },
      "execution_count": 166,
      "outputs": [
        {
          "output_type": "execute_result",
          "data": {
            "text/plain": [
              "8"
            ]
          },
          "metadata": {},
          "execution_count": 166
        }
      ]
    },
    {
      "cell_type": "code",
      "source": [
        "# modifying value at a perticular index\n",
        "x2[0, 0] = 12\n",
        "x2"
      ],
      "metadata": {
        "id": "8McLQYbmJ1gb",
        "colab": {
          "base_uri": "https://localhost:8080/"
        },
        "outputId": "e5addc34-bfad-41e8-edc1-64d249dcd02b"
      },
      "execution_count": 167,
      "outputs": [
        {
          "output_type": "execute_result",
          "data": {
            "text/plain": [
              "array([[12,  5,  2,  4],\n",
              "       [ 7,  6,  8,  8],\n",
              "       [ 1,  6,  7,  7]])"
            ]
          },
          "metadata": {},
          "execution_count": 167
        }
      ]
    },
    {
      "cell_type": "markdown",
      "source": [
        "## Array Slicing: Accessing Subarrays\n",
        "\n",
        "Just as we can use square brackets to access individual array elements, we can also use them to access subarrays with the *slice* notation, marked by the colon (``:``) character.\n",
        "The NumPy slicing syntax follows that of the standard Python list; to access a slice of an array ``x``, use this:\n",
        "``` python\n",
        "x[start:stop:step]\n",
        "```\n",
        "If any of these are unspecified, they default to the values ``start=0``, ``stop=``*``size of dimension``*, ``step=1``.\n",
        "We'll take a look at accessing sub-arrays in one dimension and in multiple dimensions."
      ],
      "metadata": {
        "id": "hwr6_1yvKQf9"
      }
    },
    {
      "cell_type": "markdown",
      "source": [
        "### One-dimensional subarrays"
      ],
      "metadata": {
        "id": "aEoCkO4ZLT7W"
      }
    },
    {
      "cell_type": "code",
      "source": [
        "x = np.arange(10)\n",
        "x"
      ],
      "metadata": {
        "id": "YRDpL3ZzLa1V",
        "colab": {
          "base_uri": "https://localhost:8080/"
        },
        "outputId": "59f40a0e-2c19-475e-e777-c99335a854ae"
      },
      "execution_count": 168,
      "outputs": [
        {
          "output_type": "execute_result",
          "data": {
            "text/plain": [
              "array([0, 1, 2, 3, 4, 5, 6, 7, 8, 9])"
            ]
          },
          "metadata": {},
          "execution_count": 168
        }
      ]
    },
    {
      "cell_type": "code",
      "source": [
        "x[:5]  # first five elements"
      ],
      "metadata": {
        "id": "1J9mkW48LcNL",
        "colab": {
          "base_uri": "https://localhost:8080/"
        },
        "outputId": "ec76b1b4-a3b4-4652-d69d-8cf513414eb0"
      },
      "execution_count": 169,
      "outputs": [
        {
          "output_type": "execute_result",
          "data": {
            "text/plain": [
              "array([0, 1, 2, 3, 4])"
            ]
          },
          "metadata": {},
          "execution_count": 169
        }
      ]
    },
    {
      "cell_type": "code",
      "source": [
        "x[:5]  # elements after index five"
      ],
      "metadata": {
        "id": "fab1B-FYLgKV",
        "colab": {
          "base_uri": "https://localhost:8080/"
        },
        "outputId": "2bb4c614-c683-45fe-9680-457a9d4e5704"
      },
      "execution_count": 170,
      "outputs": [
        {
          "output_type": "execute_result",
          "data": {
            "text/plain": [
              "array([0, 1, 2, 3, 4])"
            ]
          },
          "metadata": {},
          "execution_count": 170
        }
      ]
    },
    {
      "cell_type": "code",
      "source": [
        "x[4:7]  # sub-array of index 4, 5, 6"
      ],
      "metadata": {
        "id": "5N3cpw-ULiqV",
        "colab": {
          "base_uri": "https://localhost:8080/"
        },
        "outputId": "ab93c346-0192-45ed-cf3b-ed4d170862da"
      },
      "execution_count": 171,
      "outputs": [
        {
          "output_type": "execute_result",
          "data": {
            "text/plain": [
              "array([4, 5, 6])"
            ]
          },
          "metadata": {},
          "execution_count": 171
        }
      ]
    },
    {
      "cell_type": "code",
      "source": [
        "x[::2]  # every other element"
      ],
      "metadata": {
        "id": "iNsOAUQDMDx_",
        "colab": {
          "base_uri": "https://localhost:8080/"
        },
        "outputId": "d068db6f-d89a-4752-e93f-b27ecf3f7462"
      },
      "execution_count": 172,
      "outputs": [
        {
          "output_type": "execute_result",
          "data": {
            "text/plain": [
              "array([0, 2, 4, 6, 8])"
            ]
          },
          "metadata": {},
          "execution_count": 172
        }
      ]
    },
    {
      "cell_type": "code",
      "source": [
        "x[2::2]  # every other element starting at index 2"
      ],
      "metadata": {
        "id": "yilqVhunSU5u",
        "colab": {
          "base_uri": "https://localhost:8080/"
        },
        "outputId": "ca1b0536-0019-42cb-c11a-0d17ad82c5e9"
      },
      "execution_count": 173,
      "outputs": [
        {
          "output_type": "execute_result",
          "data": {
            "text/plain": [
              "array([2, 4, 6, 8])"
            ]
          },
          "metadata": {},
          "execution_count": 173
        }
      ]
    },
    {
      "cell_type": "markdown",
      "source": [
        "A potentially confusing case is when the ``step`` value is negative.\n",
        "In this case, the defaults for ``start`` and ``stop`` are swapped.\n",
        "This becomes a convenient way to reverse an array:"
      ],
      "metadata": {
        "id": "o6_sI_lsSlvK"
      }
    },
    {
      "cell_type": "code",
      "source": [
        "x[::-1]  # all elements, reversed"
      ],
      "metadata": {
        "id": "HtaibN6JSlJg",
        "colab": {
          "base_uri": "https://localhost:8080/"
        },
        "outputId": "986f0108-69cf-4769-e869-d0d74c31b2aa"
      },
      "execution_count": 174,
      "outputs": [
        {
          "output_type": "execute_result",
          "data": {
            "text/plain": [
              "array([9, 8, 7, 6, 5, 4, 3, 2, 1, 0])"
            ]
          },
          "metadata": {},
          "execution_count": 174
        }
      ]
    },
    {
      "cell_type": "code",
      "source": [
        "x[3::-2]  # reversed every other from index 3"
      ],
      "metadata": {
        "id": "wbfEp5IESpQT",
        "colab": {
          "base_uri": "https://localhost:8080/"
        },
        "outputId": "ea0a66c9-c38b-4c2f-8ba4-aadc18c7a6c5"
      },
      "execution_count": 175,
      "outputs": [
        {
          "output_type": "execute_result",
          "data": {
            "text/plain": [
              "array([3, 1])"
            ]
          },
          "metadata": {},
          "execution_count": 175
        }
      ]
    },
    {
      "cell_type": "markdown",
      "source": [
        "### Multi-dimensional subarrays\n",
        "\n",
        "Multi-dimensional slices work in the same way, with multiple slices separated by commas.\n",
        "For example:"
      ],
      "metadata": {
        "id": "8IIrPEOAVPd_"
      }
    },
    {
      "cell_type": "code",
      "source": [
        "x2[:2, :3]  # This is sub Array of x2 with first two rows and first three columns"
      ],
      "metadata": {
        "id": "phD6ltHjS5b0",
        "colab": {
          "base_uri": "https://localhost:8080/"
        },
        "outputId": "c9535641-44b9-4669-ef62-848d453da4bc"
      },
      "execution_count": 176,
      "outputs": [
        {
          "output_type": "execute_result",
          "data": {
            "text/plain": [
              "array([[12,  5,  2],\n",
              "       [ 7,  6,  8]])"
            ]
          },
          "metadata": {},
          "execution_count": 176
        }
      ]
    },
    {
      "cell_type": "code",
      "source": [
        "#Check how we can reverse the multidimension array\n",
        "x2[::-1, ::-1]"
      ],
      "metadata": {
        "id": "LE7O0SIfVa8F",
        "colab": {
          "base_uri": "https://localhost:8080/"
        },
        "outputId": "2fe4df7f-7bbb-41c9-f249-cb9a5ddc8750"
      },
      "execution_count": 177,
      "outputs": [
        {
          "output_type": "execute_result",
          "data": {
            "text/plain": [
              "array([[ 7,  7,  6,  1],\n",
              "       [ 8,  8,  6,  7],\n",
              "       [ 4,  2,  5, 12]])"
            ]
          },
          "metadata": {},
          "execution_count": 177
        }
      ]
    },
    {
      "cell_type": "markdown",
      "source": [
        "#### Accessing array rows and columns\n",
        "\n",
        "One commonly needed routine is accessing of single rows or columns of an array.\n",
        "This can be done by combining indexing and slicing, using an empty slice marked by a single colon (``:``):"
      ],
      "metadata": {
        "id": "ikdPJUKUW0lU"
      }
    },
    {
      "cell_type": "code",
      "source": [
        "print(x2[:, 0])  # first column of x2"
      ],
      "metadata": {
        "id": "pmv7b_0jVa0Y",
        "colab": {
          "base_uri": "https://localhost:8080/"
        },
        "outputId": "5fcafd38-d90c-48e9-da80-ba9afd848cd4"
      },
      "execution_count": 178,
      "outputs": [
        {
          "output_type": "stream",
          "name": "stdout",
          "text": [
            "[12  7  1]\n"
          ]
        }
      ]
    },
    {
      "cell_type": "code",
      "source": [
        "print(x2[0, :])  # first row of x2"
      ],
      "metadata": {
        "id": "xB51GFTNW5b8",
        "colab": {
          "base_uri": "https://localhost:8080/"
        },
        "outputId": "e142ede8-7427-4aa7-aa24-c8ba4b7f6714"
      },
      "execution_count": 179,
      "outputs": [
        {
          "output_type": "stream",
          "name": "stdout",
          "text": [
            "[12  5  2  4]\n"
          ]
        }
      ]
    },
    {
      "cell_type": "markdown",
      "source": [
        "### Subarrays as no-copy views\n",
        "\n",
        "One important–and extremely useful–thing to know about array slices is that they return *views* rather than *copies* of the array data.\n",
        "This is one area in which NumPy array slicing differs from Python list slicing: in lists, slices will be copies.\n",
        "Consider our two-dimensional array from before:"
      ],
      "metadata": {
        "id": "Z7qeID5QXLv_"
      }
    },
    {
      "cell_type": "code",
      "source": [
        "#Extract 2*2 sub array from x2\n",
        "x2_sub = x2[:2, :2]\n",
        "print(x2_sub)"
      ],
      "metadata": {
        "id": "YqS3iYj7XNgB",
        "colab": {
          "base_uri": "https://localhost:8080/"
        },
        "outputId": "aafd3bec-794f-4ce6-f49a-4fb51d7c244b"
      },
      "execution_count": 180,
      "outputs": [
        {
          "output_type": "stream",
          "name": "stdout",
          "text": [
            "[[12  5]\n",
            " [ 7  6]]\n"
          ]
        }
      ]
    },
    {
      "cell_type": "code",
      "source": [
        "x2_sub[0, 0] = 99\n",
        "#Above statement not oly modifies subarray but also the original array as well\n",
        "print(x2_sub)"
      ],
      "metadata": {
        "id": "Cu0tFyfcXZqp",
        "colab": {
          "base_uri": "https://localhost:8080/"
        },
        "outputId": "96c399f2-de30-4dc3-8064-3b0406c68d8b"
      },
      "execution_count": 181,
      "outputs": [
        {
          "output_type": "stream",
          "name": "stdout",
          "text": [
            "[[99  5]\n",
            " [ 7  6]]\n"
          ]
        }
      ]
    },
    {
      "cell_type": "markdown",
      "source": [
        "Despite the nice features of array views, it is sometimes useful to instead explicitly copy the data within an array or a subarray. This can be most easily done with the ``copy()`` method:"
      ],
      "metadata": {
        "id": "KuxFe4X4XrLA"
      }
    },
    {
      "cell_type": "code",
      "source": [
        "x2_sub[0, 0] = 42\n",
        "print(x2_sub)\n"
      ],
      "metadata": {
        "id": "SK11XTrXYqhl",
        "colab": {
          "base_uri": "https://localhost:8080/"
        },
        "outputId": "b4ff26eb-fdb6-4027-cf74-dddc78fbd3c0"
      },
      "execution_count": 182,
      "outputs": [
        {
          "output_type": "stream",
          "name": "stdout",
          "text": [
            "[[42  5]\n",
            " [ 7  6]]\n"
          ]
        }
      ]
    },
    {
      "cell_type": "markdown",
      "source": [
        "## Array Concatenation and Splitting\n",
        "\n",
        "All of the preceding routines worked on single arrays. It's also possible to combine multiple arrays into one, and to conversely split a single array into multiple arrays. We'll take a look at those operations here.\n",
        "\n",
        "\n",
        "### Concatenation of arrays\n",
        "\n",
        "Concatenation, or joining of two arrays in NumPy, is primarily accomplished using the routines ``np.concatenate``, ``np.vstack``, and ``np.hstack``.\n",
        "``np.concatenate`` takes a tuple or list of arrays as its first argument, as we can see here:"
      ],
      "metadata": {
        "id": "weHsUSMJY1DT"
      }
    },
    {
      "cell_type": "code",
      "source": [
        "x = np.array([1, 2, 3])\n",
        "y = np.array([3, 2, 1])\n",
        "np.concatenate([x, y])"
      ],
      "metadata": {
        "id": "efGYrUJqZTkB",
        "colab": {
          "base_uri": "https://localhost:8080/"
        },
        "outputId": "42a98e88-26a1-4023-ddd5-3c36f0901d91"
      },
      "execution_count": 183,
      "outputs": [
        {
          "output_type": "execute_result",
          "data": {
            "text/plain": [
              "array([1, 2, 3, 3, 2, 1])"
            ]
          },
          "metadata": {},
          "execution_count": 183
        }
      ]
    },
    {
      "cell_type": "code",
      "source": [
        "grid = np.array([[1, 2, 3],\n",
        "                 [4, 5, 6]])"
      ],
      "metadata": {
        "id": "nIppqCTKZZ_k"
      },
      "execution_count": 184,
      "outputs": []
    },
    {
      "cell_type": "code",
      "source": [
        "# concatenate along the first axis\n",
        "np.concatenate([grid, grid])"
      ],
      "metadata": {
        "id": "mSqvbZmeZbLK",
        "colab": {
          "base_uri": "https://localhost:8080/"
        },
        "outputId": "68b2073c-b5b9-4014-d079-58a518551baf"
      },
      "execution_count": 185,
      "outputs": [
        {
          "output_type": "execute_result",
          "data": {
            "text/plain": [
              "array([[1, 2, 3],\n",
              "       [4, 5, 6],\n",
              "       [1, 2, 3],\n",
              "       [4, 5, 6]])"
            ]
          },
          "metadata": {},
          "execution_count": 185
        }
      ]
    },
    {
      "cell_type": "code",
      "source": [
        "# concatenate along the second axis (zero-indexed)\n",
        "np.concatenate([grid, grid], axis=1)"
      ],
      "metadata": {
        "id": "TXZ2uJjEZeZX",
        "colab": {
          "base_uri": "https://localhost:8080/"
        },
        "outputId": "50a510ee-519e-48c3-ce4e-7146c470b781"
      },
      "execution_count": 186,
      "outputs": [
        {
          "output_type": "execute_result",
          "data": {
            "text/plain": [
              "array([[1, 2, 3, 1, 2, 3],\n",
              "       [4, 5, 6, 4, 5, 6]])"
            ]
          },
          "metadata": {},
          "execution_count": 186
        }
      ]
    },
    {
      "cell_type": "markdown",
      "source": [
        "When joining arrays of mixed dimensions, it can be clearer to use the ``np.vstack`` (vertical stack) and ``np.hstack`` (horizontal stack) functions as shown below:"
      ],
      "metadata": {
        "id": "V2_6-QWHZngr"
      }
    },
    {
      "cell_type": "code",
      "source": [
        "x = np.array([1, 2, 3])\n",
        "grid = np.array([[9, 8, 7],\n",
        "                 [6, 5, 4]])\n",
        "\n",
        "# vertically stack the arrays\n",
        "np.vstack([x, grid])"
      ],
      "metadata": {
        "id": "vEPmTdZ2ZzCS",
        "colab": {
          "base_uri": "https://localhost:8080/"
        },
        "outputId": "dbcced52-02a9-4d14-f2bf-f27e7a989f49"
      },
      "execution_count": 187,
      "outputs": [
        {
          "output_type": "execute_result",
          "data": {
            "text/plain": [
              "array([[1, 2, 3],\n",
              "       [9, 8, 7],\n",
              "       [6, 5, 4]])"
            ]
          },
          "metadata": {},
          "execution_count": 187
        }
      ]
    },
    {
      "cell_type": "code",
      "source": [
        "# horizontally stack the arrays\n",
        "y = np.array([[99],\n",
        "              [99]])\n",
        "np.hstack([grid, y])"
      ],
      "metadata": {
        "id": "PWrrAOr-Z1s2",
        "colab": {
          "base_uri": "https://localhost:8080/"
        },
        "outputId": "0ca4ad58-f51d-4316-8c89-f16f31db6b0f"
      },
      "execution_count": 188,
      "outputs": [
        {
          "output_type": "execute_result",
          "data": {
            "text/plain": [
              "array([[ 9,  8,  7, 99],\n",
              "       [ 6,  5,  4, 99]])"
            ]
          },
          "metadata": {},
          "execution_count": 188
        }
      ]
    },
    {
      "cell_type": "markdown",
      "source": [
        "### Splitting of arrays\n",
        "\n",
        "The opposite of concatenation is splitting, which is implemented by the functions ``np.split``, ``np.hsplit``, and ``np.vsplit``.  For each of these, we can pass a list of indices giving the split points:"
      ],
      "metadata": {
        "id": "bB5Ib1CsZ2rM"
      }
    },
    {
      "cell_type": "code",
      "source": [
        "x = [1, 2, 3, 99, 99, 3, 2, 1]\n",
        "x1, x2, x3 = np.split(x, [3, 5])\n",
        "print(x1, x2, x3)"
      ],
      "metadata": {
        "id": "TZTwODYMZ-1J",
        "colab": {
          "base_uri": "https://localhost:8080/"
        },
        "outputId": "850f8475-0f40-4f72-9315-66e728f6061b"
      },
      "execution_count": 189,
      "outputs": [
        {
          "output_type": "stream",
          "name": "stdout",
          "text": [
            "[1 2 3] [99 99] [3 2 1]\n"
          ]
        }
      ]
    },
    {
      "cell_type": "markdown",
      "source": [
        "Notice that *N* split-points, leads to *N + 1* subarrays.\n",
        "The related functions ``np.hsplit`` and ``np.vsplit`` are similar:"
      ],
      "metadata": {
        "id": "dfhXzVNJaJF6"
      }
    },
    {
      "cell_type": "code",
      "source": [
        "grid = np.arange(16).reshape((4, 4))\n",
        "grid"
      ],
      "metadata": {
        "id": "j6Q3sbZmZ_kL",
        "colab": {
          "base_uri": "https://localhost:8080/"
        },
        "outputId": "6ce0da25-019c-4d6e-cd90-339c28072ea0"
      },
      "execution_count": 190,
      "outputs": [
        {
          "output_type": "execute_result",
          "data": {
            "text/plain": [
              "array([[ 0,  1,  2,  3],\n",
              "       [ 4,  5,  6,  7],\n",
              "       [ 8,  9, 10, 11],\n",
              "       [12, 13, 14, 15]])"
            ]
          },
          "metadata": {},
          "execution_count": 190
        }
      ]
    },
    {
      "cell_type": "code",
      "source": [
        "upper, lower = np.vsplit(grid, [2])\n",
        "print(upper)\n",
        "print(lower)"
      ],
      "metadata": {
        "id": "DNG8leinaMMa",
        "colab": {
          "base_uri": "https://localhost:8080/"
        },
        "outputId": "e912ef79-97e7-4421-948f-235b51ff0a53"
      },
      "execution_count": 191,
      "outputs": [
        {
          "output_type": "stream",
          "name": "stdout",
          "text": [
            "[[0 1 2 3]\n",
            " [4 5 6 7]]\n",
            "[[ 8  9 10 11]\n",
            " [12 13 14 15]]\n"
          ]
        }
      ]
    },
    {
      "cell_type": "code",
      "source": [
        "left, right = np.hsplit(grid, [2])\n",
        "print(left)\n",
        "print(right)"
      ],
      "metadata": {
        "id": "I94NlVPXaOfI",
        "colab": {
          "base_uri": "https://localhost:8080/"
        },
        "outputId": "9b7b2c1d-622c-4aa1-d015-d567e009420e"
      },
      "execution_count": 192,
      "outputs": [
        {
          "output_type": "stream",
          "name": "stdout",
          "text": [
            "[[ 0  1]\n",
            " [ 4  5]\n",
            " [ 8  9]\n",
            " [12 13]]\n",
            "[[ 2  3]\n",
            " [ 6  7]\n",
            " [10 11]\n",
            " [14 15]]\n"
          ]
        }
      ]
    },
    {
      "cell_type": "markdown",
      "source": [
        "## Introducing UFuncs\n",
        "\n",
        "For many types of operations, NumPy provides a convenient interface into just this kind of statically typed, compiled routine. This is known as a *vectorized* operation.\n",
        "This can be accomplished by simply performing an operation on the array, which will then be applied to each element.\n",
        "This vectorized approach is designed to push the loop into the compiled layer that underlies NumPy, leading to much faster execution."
      ],
      "metadata": {
        "id": "OzROt5Aa_Qxx"
      }
    },
    {
      "cell_type": "code",
      "source": [
        "#Consider following loop based implementation to ind reciprocals for each element of an array\n",
        "np.random.seed(0)\n",
        "\n",
        "def compute_reciprocals(values):\n",
        "    output = np.empty(len(values))\n",
        "    for i in range(len(values)):\n",
        "        output[i] = 1.0 / values[i]\n",
        "    return output\n",
        "        \n",
        "big_array = np.random.randint(1, 100, size=1000000)\n",
        "%timeit compute_reciprocals(big_array)"
      ],
      "metadata": {
        "id": "aW_dwQab_dPF"
      },
      "execution_count": null,
      "outputs": []
    },
    {
      "cell_type": "code",
      "source": [
        "#Same operatoin using UFuncs applying '/' over array elements\n",
        "%timeit (1.0 / big_array)"
      ],
      "metadata": {
        "id": "C1qvC-0X_2Ue"
      },
      "execution_count": null,
      "outputs": []
    },
    {
      "cell_type": "markdown",
      "source": [
        "Vectorized operations in NumPy are implemented via *ufuncs*, whose main purpose is to quickly execute repeated operations on values in NumPy arrays. UFuncs are extremely flexible – before we saw an operation between a scalar and an array, but we can also operate between two arrays as well as multidimentional arrays.\n",
        "\n",
        "Computations using vectorization through ufuncs are nearly always more efficient than their counterpart implemented using Python loops, especially as the arrays grow in size.\n",
        "Any time you see such a loop in a Python script, you should consider whether it can be replaced with a vectorized expression."
      ],
      "metadata": {
        "id": "zWEw0XwOATnq"
      }
    },
    {
      "cell_type": "markdown",
      "source": [
        "## Exploring NumPy's UFuncs\n",
        "\n",
        "Ufuncs exist in two flavors: *unary ufuncs*, which operate on a single input, and *binary ufuncs*, which operate on two inputs.\n",
        "\n",
        "\n",
        "### Array arithmetic\n",
        "\n",
        "NumPy's ufuncs feel very natural to use because they make use of Python's native arithmetic operators.\n",
        "The standard addition, subtraction, multiplication, and division can all be used:"
      ],
      "metadata": {
        "id": "LmvTAwQxBeu9"
      }
    },
    {
      "cell_type": "code",
      "source": [
        "x = np.arange(4)\n",
        "print(\"x     =\", x)\n",
        "print(\"x + 5 =\", x + 5)\n",
        "print(\"x - 5 =\", x - 5)\n",
        "print(\"x * 2 =\", x * 2)\n",
        "print(\"x / 2 =\", x / 2)\n",
        "print(\"x // 2 =\", x // 2)  # floor division\n",
        "#some advanced arithmatic expression   -(x/2+1)^2 \n",
        "-(0.5*x + 1) ** 2"
      ],
      "metadata": {
        "id": "nR25dPabASNy"
      },
      "execution_count": null,
      "outputs": []
    },
    {
      "cell_type": "markdown",
      "source": [
        "The following table lists the arithmetic operators implemented in NumPy:\n",
        "\n",
        "| Operator\t    | Equivalent ufunc    | Description                           |\n",
        "|---------------|---------------------|---------------------------------------|\n",
        "|``+``          |``np.add``           |Addition (e.g., ``1 + 1 = 2``)         |\n",
        "|``-``          |``np.subtract``      |Subtraction (e.g., ``3 - 2 = 1``)      |\n",
        "|``-``          |``np.negative``      |Unary negation (e.g., ``-2``)          |\n",
        "|``*``          |``np.multiply``      |Multiplication (e.g., ``2 * 3 = 6``)   |\n",
        "|``/``          |``np.divide``        |Division (e.g., ``3 / 2 = 1.5``)       |\n",
        "|``//``         |``np.floor_divide``  |Floor division (e.g., ``3 // 2 = 1``)  |\n",
        "|``**``         |``np.power``         |Exponentiation (e.g., ``2 ** 3 = 8``)  |\n",
        "|``%``          |``np.mod``           |Modulus/remainder (e.g., ``9 % 4 = 1``)|"
      ],
      "metadata": {
        "id": "a0WbgBQiB-i4"
      }
    },
    {
      "cell_type": "markdown",
      "source": [
        "### Specialized ufuncs\n",
        "\n",
        "NumPy has many more ufuncs available, including hyperbolic trig functions, bitwise arithmetic, comparison operators, conversions from radians to degrees, rounding and remainders, and much more.\n",
        "A look through the NumPy documentation reveals a lot of interesting functionality.\n",
        "\n",
        "Another excellent source for more specialized and obscure ufuncs is the submodule ``scipy.special``.\n",
        "If you want to compute some obscure mathematical function on your data, chances are it is implemented in ``scipy.special``.\n",
        "There are far too many functions to list them all, but the following snippet shows a couple that might come up in a statistics context:"
      ],
      "metadata": {
        "id": "igbeuwzCCSNq"
      }
    },
    {
      "cell_type": "code",
      "source": [
        "#importing package special from scipy package\n",
        "from scipy import special"
      ],
      "metadata": {
        "id": "lLWR2D17CXup"
      },
      "execution_count": null,
      "outputs": []
    },
    {
      "cell_type": "code",
      "source": [
        "# Gamma functions (generalized factorials) and related functions\n",
        "x = [1, 5, 10]\n",
        "print(\"gamma(x)     =\", special.gamma(x))\n",
        "print(\"ln|gamma(x)| =\", special.gammaln(x))\n",
        "print(\"beta(x, 2)   =\", special.beta(x, 2))"
      ],
      "metadata": {
        "id": "zZIUIA_TCm3N"
      },
      "execution_count": null,
      "outputs": []
    },
    {
      "cell_type": "markdown",
      "source": [
        "Many other special functions like error functions, beta integral can also be evaluated."
      ],
      "metadata": {
        "id": "NLnCoznWCoE9"
      }
    },
    {
      "cell_type": "markdown",
      "source": [
        "### Aggregates\n",
        "\n",
        "For binary ufuncs, there are some interesting aggregates that can be computed directly from the object.\n",
        "For example, if we'd like to *reduce* an array with a particular operation, we can use the ``reduce`` method of any ufunc.\n",
        "A reduce repeatedly applies a given operation to the elements of an array until only a single result remains.\n",
        "\n",
        "For example, calling ``reduce`` on the ``add`` ufunc returns the sum of all elements in the array:"
      ],
      "metadata": {
        "id": "IQRLOEyhC7h_"
      }
    },
    {
      "cell_type": "code",
      "source": [
        "x = np.arange(1, 6)\n",
        "np.add.reduce(x)"
      ],
      "metadata": {
        "id": "S-tqV3rWDTQT"
      },
      "execution_count": null,
      "outputs": []
    },
    {
      "cell_type": "code",
      "source": [
        "np.multiply.reduce(x)"
      ],
      "metadata": {
        "id": "eyx37Xz9DUEK"
      },
      "execution_count": null,
      "outputs": []
    },
    {
      "cell_type": "code",
      "source": [
        "#note the difference in output with accumulate\n",
        "np.add.accumulate(x)"
      ],
      "metadata": {
        "id": "clon3tBiDWql"
      },
      "execution_count": null,
      "outputs": []
    },
    {
      "cell_type": "markdown",
      "source": [
        "**Answer Following Questions :** (You should either type the answer in separate text cell or code cell as per questoins asked)\n",
        "          \n",
        "\n",
        "\n",
        "1.   What are UFuncs un numpy? \n",
        "ANS:-ufuncs stands for “Universal Functions” and they are NumPy functions that operate on the\n",
        "ndarray object.ufuncs stands for “Universal Functions” and they are NumPy functions that\n",
        "operate on the ndarray object. ufuncs are used to implement vectorization in NumPy which is\n",
        "way faster than iterating over elements. They also provide broadcasting and additional methods\n",
        "like reduce, accumulate etc. that are very helpful for computation\n",
        "\n",
        "\n",
        "2.   Which are various attributes of numy arrays object?\n",
        "ANS:-1)ndarray.ndim\n",
        "ndim represents the number of dimensions (axes) of the ndarray. for example e.g. for this 2-\n",
        "dimensional array [ [3,4,6], [0,8,1]], value of ndim will be 2. This ndarray has two dimensions\n",
        "\n",
        "(axes) - rows (axis=0) and columns (axis=1)\n",
        "2) ndarray.shape\n",
        "shape is a tuple of integers representing the size of the ndarray in each dimension. e.g. for this\n",
        "2-dimensional array [ [3,4,6], [0,8,1]], value of shape will be (2,3) because this ndarray has two\n",
        "dimensions - rows and columns - and the number of rows is 2 and the number of columns is 3\n",
        "(3) ndarray.size\n",
        "size is the total number of elements in the ndarray. It is equal to the product of elements of the\n",
        "shape. e.g. for this 2-dimensional array [ [3,4,6], [0,8,1]], shape is (2,3), size will be product\n",
        "(multiplication) of 2 and 3 i.e. (23) = 6. Hence, the size is 6.\n",
        "(4) ndarray.dtype\n",
        "dtype tells the data type of the elements of a NumPy array. In NumPy array, all the elements\n",
        "have the same data type.\n",
        "e.g. for this NumPy array [ [3,4,6], [0,8,1]], dtype will be int64\n",
        "(5) ndarray.itemsize\n",
        "itemsize returns the size (in bytes) of each element of a NumPy array.\n",
        "e.g. for this NumPy array [ [3,4,6], [0,8,1]], itemsize will be 8, because this array consists of integers and size of integer (in bytes) is 8 bytes.\n",
        "\n",
        "3.   If you have 3 dimentional array in numpy object Obj how to identify its size, type and dimentions ?\n",
        "ANS:-You can get the number of dimensions, shape (length of each dimension), and size (number of\n",
        "all elements) of the NumPy array with ndim, shape, and size attributes of numpy.ndarray.\n",
        "1)Number of dimensions of the NumPy array: ndim\n",
        "2)Shape of the NumPy array: shape\n",
        "3)Size of the NumPy array: size\n",
        "4)Size of the first dimension of the NumPy array: len()\n",
        "[ ]: np.random.seed(0) # seed for reproducibility\n",
        "a = np.random.randint(10, size=(1, 2, 5)) # Three-dimensional array print(\" ndim:\n",
        "\", a.ndim)\n",
        "print(\" shape:\", a.shape)\n",
        "print(\" size: \", a.size)\n",
        "print(\"dtype:\", a.dtype)\n",
        "ndim: 3\n",
        "shape: (1, 2, 5)\n",
        "size: 10\n",
        "dtype: int64\n",
        "\n",
        "\n",
        "4.   Consider Obj object has dimentions 3\\*4\\*2  and you want to convert it to 4\\*6 shape, explain how will you do it ? Show this using a code cell, taking an example of 3\\*4\\*2 np array of random int between 1 and 50. \n",
        "ANS:- 1)To generate a 34x2 NumPy array of random integers between 1 and 50, we can\n",
        "use the np.random.randint() function.\n",
        "2)To convert 3,4,2 to 4,6 The reshape() function is used to give a new shape to an\n",
        "array without changing its data.Syntax: numpy.reshape(array, shape). Code is down\n",
        "below.\n",
        "[ ]: p1=np.random.randint(1,50, size=(3,4,2))\n",
        "print(p1)\n",
        "p2=numpy.reshape(p1,( 4,6))\n",
        "p2\n",
        "[[[39 36]\n",
        "[23 6]\n",
        "[24 44]\n",
        "[33 12]]\n",
        "[[41 21]\n",
        "[11 44]\n",
        "[38 29]\n",
        "[48 41]]\n",
        "[[ 3 28]\n",
        "[20 26]\n",
        "[24 47]\n",
        "[21 30]]]\n",
        "[ ]: array([[39, 36, 23, 6, 24, 44],\n",
        "[33, 12, 41, 21, 11, 44],\n",
        "[38, 29, 48, 41, 3, 28],\n",
        "[20, 26, 24, 47, 21, 30]])\n",
        "\n",
        "5.   Consider above 4\\*6 array, sample 2\\*3 sub array from left  bottom of this array store the result in varible named subOb\n",
        "ANS:-[ ]: print(p2)\n",
        "p2_sub= p2[:4, :3]\n",
        "print(\"_______________\")\n",
        "print(p2_sub)\n",
        "print(\"_______________\")\n",
        "sub= np.vsplit(p2_sub, [2])\n",
        "print(sub[1])\n",
        "\n",
        "[\n",
        "[\n",
        "3\n",
        "9\n",
        "3\n",
        "6\n",
        "2\n",
        "3\n",
        "6\n",
        "2\n",
        "4\n",
        "4\n",
        "4\n",
        "]\n",
        "\n",
        "[\n",
        "3\n",
        "3\n",
        "1\n",
        "2\n",
        "4\n",
        "1\n",
        "2\n",
        "1\n",
        "1\n",
        "1\n",
        "4\n",
        "4\n",
        "]\n",
        "\n",
        "[\n",
        "3\n",
        "8\n",
        "2\n",
        "9\n",
        "4\n",
        "8\n",
        "4\n",
        "1\n",
        "3\n",
        "2\n",
        "8\n",
        "]\n",
        "\n",
        "[\n",
        "2\n",
        "0\n",
        "2\n",
        "6\n",
        "2\n",
        "4\n",
        "4\n",
        "7\n",
        "2\n",
        "1\n",
        "3\n",
        "0\n",
        "]\n",
        "]\n",
        "_______________ [[39 36 23] [33 12 41] [38 29 48] [20 26 24]] _______________ [[38 29 48] [20 26 24]]  \n",
        "\n",
        "**Conclusion :**  Thus we have learned basics of Numpy library for storing and efficiently processing any external data into python execution pipeline.  "
      ],
      "metadata": {
        "id": "m56WFV4aELVz"
      }
    }
  ]
}